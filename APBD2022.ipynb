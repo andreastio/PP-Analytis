{
  "cells": [
    {
      "cell_type": "code",
      "execution_count": null,
      "metadata": {
        "id": "E7JEBvj-Emwi",
        "colab": {
          "base_uri": "https://localhost:8080/"
        },
        "outputId": "6477665b-7156-4de5-d386-e027eae4dd4f"
      },
      "outputs": [
        {
          "output_type": "stream",
          "name": "stdout",
          "text": [
            "Mounted at /content/drive\n"
          ]
        }
      ],
      "source": [
        "from google.colab import drive\n",
        "drive.mount('/content/drive')"
      ]
    },
    {
      "cell_type": "code",
      "execution_count": null,
      "metadata": {
        "id": "D4_bSmz-E2F8"
      },
      "outputs": [],
      "source": [
        "import pandas as pd\n",
        "import numpy as np\n",
        "import string as string"
      ]
    },
    {
      "cell_type": "code",
      "source": [],
      "metadata": {
        "id": "WwwuZbopGnjY"
      },
      "execution_count": null,
      "outputs": []
    },
    {
      "cell_type": "code",
      "execution_count": null,
      "metadata": {
        "id": "hkM5RsXdFAVN"
      },
      "outputs": [],
      "source": [
        "A2022 = '/content/drive/MyDrive/Copy of A2022_dataset_buat bedah data.csv'\n",
        "kode = '/content/drive/MyDrive/kode_provkabkot.csv'\n",
        "prov_code = '/content/drive/MyDrive/fix_prov_code.csv'"
      ]
    },
    {
      "cell_type": "code",
      "execution_count": null,
      "metadata": {
        "colab": {
          "base_uri": "https://localhost:8080/"
        },
        "id": "HqpMs2J2FKI2",
        "outputId": "9f23af62-50c3-4b12-bde7-54cea439b9f7"
      },
      "outputs": [
        {
          "output_type": "stream",
          "name": "stderr",
          "text": [
            "/usr/local/lib/python3.7/dist-packages/IPython/core/interactiveshell.py:3326: DtypeWarning: Columns (7,14,15,17,19,21,22,23,25,27,28,30,32,34,36,37,39,41,43,45,47,49,50,54,56,57,59) have mixed types.Specify dtype option on import or set low_memory=False.\n",
            "  exec(code_obj, self.user_global_ns, self.user_ns)\n"
          ]
        }
      ],
      "source": [
        "df_A2022 = pd.read_csv(A2022, sep=';')"
      ]
    },
    {
      "cell_type": "code",
      "source": [
        "df_prov_code = pd.read_csv(prov_code,sep=';')"
      ],
      "metadata": {
        "id": "vZJd_cfYapxd"
      },
      "execution_count": null,
      "outputs": []
    },
    {
      "cell_type": "code",
      "execution_count": null,
      "metadata": {
        "id": "UI-QA7TF6VR8"
      },
      "outputs": [],
      "source": [
        "df=df_A2022.copy()"
      ]
    },
    {
      "cell_type": "code",
      "execution_count": null,
      "metadata": {
        "id": "2cK_1B92Y8TP"
      },
      "outputs": [],
      "source": [
        "col_num = [11,12,13,14,31]"
      ]
    },
    {
      "cell_type": "code",
      "execution_count": null,
      "metadata": {
        "colab": {
          "base_uri": "https://localhost:8080/"
        },
        "id": "OrdUeMW0dtKJ",
        "outputId": "783b74be-84b3-43c1-bfa5-466af5e63ea4"
      },
      "outputs": [
        {
          "output_type": "execute_result",
          "data": {
            "text/plain": [
              "dict_keys(['kodefungsi', 'namafungsi', 'kodesubfungsi', 'namasubfungsi', 'namasubkegiatan'])"
            ]
          },
          "metadata": {},
          "execution_count": 7
        }
      ],
      "source": [
        "a = {}\n",
        "for i in col_num:\n",
        "  a[df.columns[i]]=df.iloc[:,i].unique()\n",
        "\n",
        "\n",
        "a.keys()"
      ]
    },
    {
      "cell_type": "code",
      "execution_count": null,
      "metadata": {
        "id": "_QlIqODWjfuA"
      },
      "outputs": [],
      "source": [
        "# temp=[]\n",
        "# for x in a['namafungsi']:\n",
        "#   try:\n",
        "#     temp.append(x.lower())\n",
        "#   except:\n",
        "#     temp.append('null')\n",
        "# a['namafungsi']=temp"
      ]
    },
    {
      "cell_type": "code",
      "execution_count": null,
      "metadata": {
        "id": "Z70sMb7aq4-J"
      },
      "outputs": [],
      "source": [
        "df['kodeprovinsi']=df.loc[:,'kodepemda'].apply(lambda x: str(x).split('.')[0])\n",
        "df['kodekabkot'] = df.loc[:,'kodepemda'].apply(lambda x: str(x).split('.')[1])"
      ]
    },
    {
      "cell_type": "code",
      "execution_count": null,
      "metadata": {
        "colab": {
          "base_uri": "https://localhost:8080/"
        },
        "id": "fmv9Zec1zmuD",
        "outputId": "49f2bdd9-d8a4-4c2a-fe96-5abdcce1bc7a"
      },
      "outputs": [
        {
          "output_type": "execute_result",
          "data": {
            "text/plain": [
              "34"
            ]
          },
          "metadata": {},
          "execution_count": 10
        }
      ],
      "source": [
        "df['kodeprovinsi'].nunique()"
      ]
    },
    {
      "cell_type": "code",
      "source": [
        "df['kodekabkot'].nunique()"
      ],
      "metadata": {
        "colab": {
          "base_uri": "https://localhost:8080/"
        },
        "id": "5Autz54CmPK_",
        "outputId": "d78c181a-6e06-4aa8-eb34-3e5bf5712af5"
      },
      "execution_count": null,
      "outputs": [
        {
          "output_type": "execute_result",
          "data": {
            "text/plain": [
              "39"
            ]
          },
          "metadata": {},
          "execution_count": 11
        }
      ]
    },
    {
      "cell_type": "code",
      "execution_count": null,
      "metadata": {
        "id": "P6434Qbos-8K",
        "colab": {
          "base_uri": "https://localhost:8080/"
        },
        "outputId": "ca8661be-2787-4e51-fb9e-138d6f4039a1"
      },
      "outputs": [
        {
          "output_type": "execute_result",
          "data": {
            "text/plain": [
              "1065"
            ]
          },
          "metadata": {},
          "execution_count": 12
        }
      ],
      "source": [
        "a = []\n",
        "for i in col_num:\n",
        "  for i_row,words in enumerate(df.iloc[:,i]):\n",
        "    try:\n",
        "      words.lower()\n",
        "    except:\n",
        "      continue\n",
        "    if('sanitasi' in words.lower()):\n",
        "      # print(words)\n",
        "      a.append((i_row,df.columns[i],words,df.loc[i_row,'kodeprovinsi']))\n",
        "\n",
        "len(a)"
      ]
    },
    {
      "cell_type": "code",
      "source": [
        "df_a = pd.DataFrame(a, columns = ['i_row', 'col_name','col_value','prov'])"
      ],
      "metadata": {
        "id": "QYdcSQAdCpTh"
      },
      "execution_count": null,
      "outputs": []
    },
    {
      "cell_type": "code",
      "source": [
        "i = list(df_a['i_row'])"
      ],
      "metadata": {
        "id": "bC89riaxDQ56"
      },
      "execution_count": null,
      "outputs": []
    },
    {
      "cell_type": "code",
      "source": [
        "df['tahun'].unique()"
      ],
      "metadata": {
        "colab": {
          "base_uri": "https://localhost:8080/"
        },
        "id": "IRTvotwzpX3a",
        "outputId": "0c75c4a9-ebd9-4762-e5dd-ded7aba958d0"
      },
      "execution_count": null,
      "outputs": [
        {
          "output_type": "execute_result",
          "data": {
            "text/plain": [
              "array([2022])"
            ]
          },
          "metadata": {},
          "execution_count": 15
        }
      ]
    },
    {
      "cell_type": "code",
      "source": [
        "df['bulan'].unique()"
      ],
      "metadata": {
        "colab": {
          "base_uri": "https://localhost:8080/"
        },
        "id": "eqvop0-QlAzR",
        "outputId": "9850d0e7-1a7b-4e65-fa6b-d6d6e69e1d53"
      },
      "execution_count": null,
      "outputs": [
        {
          "output_type": "execute_result",
          "data": {
            "text/plain": [
              "array([ 0., nan])"
            ]
          },
          "metadata": {},
          "execution_count": 16
        }
      ]
    },
    {
      "cell_type": "code",
      "source": [
        "group = ['tahun','bulan','namasubkegiatan','namaprogram','namaoutcome','kodeprovinsi','kodekabkot']\n"
      ],
      "metadata": {
        "id": "hnR5_an7D7aS"
      },
      "execution_count": null,
      "outputs": []
    },
    {
      "cell_type": "code",
      "source": [
        "df['kodeprovinsi']=pd.to_numeric(df['kodeprovinsi'])"
      ],
      "metadata": {
        "id": "pVQmXaRnugwJ"
      },
      "execution_count": null,
      "outputs": []
    },
    {
      "cell_type": "code",
      "source": [
        "df['kodeprovinsi'].unique()"
      ],
      "metadata": {
        "colab": {
          "base_uri": "https://localhost:8080/"
        },
        "id": "nmWi0iBDr1yj",
        "outputId": "9452fd0d-a688-4303-b1fd-ab4a4f5175b6"
      },
      "execution_count": null,
      "outputs": [
        {
          "output_type": "execute_result",
          "data": {
            "text/plain": [
              "array([ 1,  2,  3,  4,  5,  6,  7,  8,  9, 10, 11, 12, 13, 14, 15, 16, 17,\n",
              "       18, 19, 20, 21, 22, 23, 24, 25, 26, 27, 28, 29, 30, 31, 32, 33, 34])"
            ]
          },
          "metadata": {},
          "execution_count": 19
        }
      ]
    },
    {
      "cell_type": "code",
      "source": [
        "df_sanitasi = df.iloc[i,:].groupby(group, as_index=False).sum()"
      ],
      "metadata": {
        "id": "9U9bbc1jFHGW"
      },
      "execution_count": null,
      "outputs": []
    },
    {
      "cell_type": "code",
      "source": [
        "# df_sanitasi.to_csv('df_sanitasi_1.csv')"
      ],
      "metadata": {
        "id": "C3ZSOAtmGER7"
      },
      "execution_count": null,
      "outputs": []
    },
    {
      "cell_type": "code",
      "source": [
        "df_kod = pd.read_csv(kode,sep=';', encoding =  \"ISO-8859-1\")"
      ],
      "metadata": {
        "id": "hAbuS23QqtkC"
      },
      "execution_count": null,
      "outputs": []
    },
    {
      "cell_type": "code",
      "source": [
        "df_kod['NAMA_PROVINSI'].nunique()"
      ],
      "metadata": {
        "colab": {
          "base_uri": "https://localhost:8080/"
        },
        "id": "vX__7REIqwDe",
        "outputId": "6de78a12-a714-429d-d61e-41fb66dcabe1"
      },
      "execution_count": null,
      "outputs": [
        {
          "output_type": "execute_result",
          "data": {
            "text/plain": [
              "32"
            ]
          },
          "metadata": {},
          "execution_count": 23
        }
      ]
    },
    {
      "cell_type": "code",
      "source": [
        "df_kod.columns"
      ],
      "metadata": {
        "colab": {
          "base_uri": "https://localhost:8080/"
        },
        "id": "KdJosQyxqAYS",
        "outputId": "5e1f13c1-ea0b-4176-b749-5a3d3c5f38c6"
      },
      "execution_count": null,
      "outputs": [
        {
          "output_type": "execute_result",
          "data": {
            "text/plain": [
              "Index(['NAMA_PROVINSI', 'KODE_PROVINSI'], dtype='object')"
            ]
          },
          "metadata": {},
          "execution_count": 25
        }
      ]
    },
    {
      "cell_type": "code",
      "source": [
        "# res = df_sanitasi.merge(df_kod, how='inner', left_on=['kodeprovinsi'], right_on=['KODE_PROVINSI'])"
      ],
      "metadata": {
        "id": "hh7CSXMhHElr"
      },
      "execution_count": null,
      "outputs": []
    },
    {
      "cell_type": "code",
      "source": [
        "# res = res.drop(['KODE_KABKOT','NAMA_KABKOT'],axis=1)"
      ],
      "metadata": {
        "id": "g7jB9FqZ0gEg"
      },
      "execution_count": null,
      "outputs": []
    },
    {
      "cell_type": "code",
      "source": [
        "# res.to_csv('result.csv')"
      ],
      "metadata": {
        "id": "wU5qrNOQ1GgT"
      },
      "execution_count": null,
      "outputs": []
    },
    {
      "cell_type": "code",
      "source": [
        "# from google.colab import files\n",
        "# res.to_csv('result.csv') \n",
        "# files.download('result.csv')"
      ],
      "metadata": {
        "id": "hDrv0MLB17uA"
      },
      "execution_count": null,
      "outputs": []
    },
    {
      "cell_type": "code",
      "source": [
        "df.info()"
      ],
      "metadata": {
        "colab": {
          "base_uri": "https://localhost:8080/"
        },
        "id": "BFpHs2OM2EYs",
        "outputId": "7f30323b-05af-4de1-e577-78d44fade08d"
      },
      "execution_count": null,
      "outputs": [
        {
          "output_type": "stream",
          "name": "stdout",
          "text": [
            "<class 'pandas.core.frame.DataFrame'>\n",
            "RangeIndex: 5242575 entries, 0 to 5242574\n",
            "Data columns (total 62 columns):\n",
            " #   Column                  Dtype  \n",
            "---  ------                  -----  \n",
            " 0   kodepemda               float64\n",
            " 1   namapemda               object \n",
            " 2   sumber                  object \n",
            " 3   tahun                   int64  \n",
            " 4   bulan                   float64\n",
            " 5   kodedata                int64  \n",
            " 6   jeniscoa                float64\n",
            " 7   nomorperda              object \n",
            " 8   tanggalperda            object \n",
            " 9   namaaplikasi            object \n",
            " 10  pengembangaplikasi      object \n",
            " 11  kodefungsi              float64\n",
            " 12  namafungsi              object \n",
            " 13  kodesubfungsi           float64\n",
            " 14  namasubfungsi           object \n",
            " 15  kodeurusanprogram       object \n",
            " 16  namaurusanprogram       object \n",
            " 17  kodeurusanpelaksana     object \n",
            " 18  namaurusanpelaksana     object \n",
            " 19  kodeskpd                object \n",
            " 20  namaskpd                object \n",
            " 21  kodeunitskpd            object \n",
            " 22  namaunitskpd            object \n",
            " 23  kodeprogram             object \n",
            " 24  namaprogram             object \n",
            " 25  namaoutcome             object \n",
            " 26  targetoutcome           float64\n",
            " 27  satuanoutcome           object \n",
            " 28  kodekegiatan            object \n",
            " 29  namakegiatan            object \n",
            " 30  kodesubkegiatan         object \n",
            " 31  namasubkegiatan         object \n",
            " 32  namaoutput              object \n",
            " 33  targetoutput            float64\n",
            " 34  satuanoutput            object \n",
            " 35  kodelokasi              float64\n",
            " 36  namalokasi              object \n",
            " 37  kodeakunutama           object \n",
            " 38  namaakunutama           object \n",
            " 39  kodeakunkelompok        object \n",
            " 40  namaakunkelompok        object \n",
            " 41  kodeakunjenis           object \n",
            " 42  namaakunjenis           object \n",
            " 43  kodeakunobjek           object \n",
            " 44  namaakunobjek           object \n",
            " 45  kodeakunrinci           object \n",
            " 46  namaakunrinci           object \n",
            " 47  kodeakunsubrinci        object \n",
            " 48  namaakunsubrinci        object \n",
            " 49  kodeakunsubsubrinci     object \n",
            " 50  namaakunsubsubrinci     object \n",
            " 51  kodeakunsubsubsubrinci  float64\n",
            " 52  namaakunsubsubsubrinci  float64\n",
            " 53  volume                  float64\n",
            " 54  satuan                  object \n",
            " 55  hargasatuan             float64\n",
            " 56  kodesumberdana          object \n",
            " 57  namasumberdana          object \n",
            " 58  nilaianggaran           float64\n",
            " 59  catatan                 object \n",
            " 60  kodeprovinsi            int64  \n",
            " 61  kodekabkot              object \n",
            "dtypes: float64(13), int64(3), object(46)\n",
            "memory usage: 2.4+ GB\n"
          ]
        }
      ]
    },
    {
      "cell_type": "code",
      "source": [
        "a = df['namasubkegiatan'].astype(str)\n",
        "a = pd.DataFrame(a, columns = ['namasubkegiatan'])"
      ],
      "metadata": {
        "id": "P2t5zozXlrnq"
      },
      "execution_count": null,
      "outputs": []
    },
    {
      "cell_type": "code",
      "source": [
        "def if_sanitasi(x):\n",
        "  if('sanitasi' in str(x).lower()):\n",
        "    return 1\n",
        "  else:\n",
        "    return 0\n"
      ],
      "metadata": {
        "id": "qDfgroxXcKrG"
      },
      "execution_count": null,
      "outputs": []
    },
    {
      "cell_type": "code",
      "source": [
        "col = ['tahun', 'bulan', 'namasubkegiatan','kodeprovinsi','nilaianggaran']\n",
        "at = df[col]\n",
        "at['flag_sanitasi'] = at.loc[:,'namasubkegiatan'].apply (lambda row: if_sanitasi(row))"
      ],
      "metadata": {
        "colab": {
          "base_uri": "https://localhost:8080/"
        },
        "id": "cEcTXk_NbKD8",
        "outputId": "2c836b55-e686-401d-deb5-07201df4ade7"
      },
      "execution_count": null,
      "outputs": [
        {
          "output_type": "stream",
          "name": "stderr",
          "text": [
            "/usr/local/lib/python3.7/dist-packages/ipykernel_launcher.py:3: SettingWithCopyWarning: \n",
            "A value is trying to be set on a copy of a slice from a DataFrame.\n",
            "Try using .loc[row_indexer,col_indexer] = value instead\n",
            "\n",
            "See the caveats in the documentation: https://pandas.pydata.org/pandas-docs/stable/user_guide/indexing.html#returning-a-view-versus-a-copy\n",
            "  This is separate from the ipykernel package so we can avoid doing imports until\n"
          ]
        }
      ]
    },
    {
      "cell_type": "code",
      "source": [
        "grouped = at.groupby(['tahun','bulan','kodeprovinsi','flag_sanitasi'],as_index = False)['nilaianggaran'].sum()"
      ],
      "metadata": {
        "id": "9l4AIjdDnass"
      },
      "execution_count": null,
      "outputs": []
    },
    {
      "cell_type": "code",
      "source": [
        "df_prov_code.info()"
      ],
      "metadata": {
        "colab": {
          "base_uri": "https://localhost:8080/"
        },
        "id": "U1mlbLI_entz",
        "outputId": "2758af24-82d8-4060-fa01-1c85a94e2d98"
      },
      "execution_count": null,
      "outputs": [
        {
          "output_type": "stream",
          "name": "stdout",
          "text": [
            "<class 'pandas.core.frame.DataFrame'>\n",
            "RangeIndex: 45 entries, 0 to 44\n",
            "Data columns (total 2 columns):\n",
            " #   Column         Non-Null Count  Dtype \n",
            "---  ------         --------------  ----- \n",
            " 0   NAMA_PROVINSI  45 non-null     object\n",
            " 1   KODE_PROVINSI  45 non-null     int64 \n",
            "dtypes: int64(1), object(1)\n",
            "memory usage: 848.0+ bytes\n"
          ]
        }
      ]
    },
    {
      "cell_type": "code",
      "source": [
        "grouped.info()"
      ],
      "metadata": {
        "colab": {
          "base_uri": "https://localhost:8080/"
        },
        "id": "pKPoBTHYevqH",
        "outputId": "b01f2ef7-be4a-42d3-d896-8fc11ead85b8"
      },
      "execution_count": null,
      "outputs": [
        {
          "output_type": "stream",
          "name": "stdout",
          "text": [
            "<class 'pandas.core.frame.DataFrame'>\n",
            "RangeIndex: 67 entries, 0 to 66\n",
            "Data columns (total 5 columns):\n",
            " #   Column         Non-Null Count  Dtype  \n",
            "---  ------         --------------  -----  \n",
            " 0   tahun          67 non-null     int64  \n",
            " 1   bulan          67 non-null     float64\n",
            " 2   kodeprovinsi   67 non-null     int64  \n",
            " 3   flag_sanitasi  67 non-null     int64  \n",
            " 4   nilaianggaran  67 non-null     float64\n",
            "dtypes: float64(2), int64(3)\n",
            "memory usage: 2.7 KB\n"
          ]
        }
      ]
    },
    {
      "cell_type": "code",
      "source": [
        "result = grouped.merge(df_prov_code, how='inner', left_on=['kodeprovinsi'], right_on=['KODE_PROVINSI'])"
      ],
      "metadata": {
        "id": "LCxMD3exbecc"
      },
      "execution_count": null,
      "outputs": []
    },
    {
      "cell_type": "code",
      "source": [
        "result.info()"
      ],
      "metadata": {
        "colab": {
          "base_uri": "https://localhost:8080/"
        },
        "id": "qahpDeq7fcJs",
        "outputId": "94d7f6e6-1593-4ed7-cbc4-9eb2ab1acabb"
      },
      "execution_count": null,
      "outputs": [
        {
          "output_type": "stream",
          "name": "stdout",
          "text": [
            "<class 'pandas.core.frame.DataFrame'>\n",
            "Int64Index: 65 entries, 0 to 64\n",
            "Data columns (total 7 columns):\n",
            " #   Column         Non-Null Count  Dtype  \n",
            "---  ------         --------------  -----  \n",
            " 0   tahun          65 non-null     int64  \n",
            " 1   bulan          65 non-null     float64\n",
            " 2   kodeprovinsi   65 non-null     int64  \n",
            " 3   flag_sanitasi  65 non-null     int64  \n",
            " 4   nilaianggaran  65 non-null     float64\n",
            " 5   NAMA_PROVINSI  65 non-null     object \n",
            " 6   KODE_PROVINSI  65 non-null     int64  \n",
            "dtypes: float64(2), int64(4), object(1)\n",
            "memory usage: 6.1+ KB\n"
          ]
        }
      ]
    },
    {
      "cell_type": "code",
      "source": [
        "result = result.drop(['kodeprovinsi'],axis = 1)"
      ],
      "metadata": {
        "id": "UmopLHWHfF0h"
      },
      "execution_count": null,
      "outputs": []
    },
    {
      "cell_type": "code",
      "source": [
        "from google.colab import files\n",
        "result.to_csv('result.csv') \n",
        "files.download('result.csv')"
      ],
      "metadata": {
        "colab": {
          "base_uri": "https://localhost:8080/",
          "height": 17
        },
        "id": "J2ezRUVHe3Iy",
        "outputId": "ded6f5ba-34b0-4b2c-ebea-080d050ad3c3"
      },
      "execution_count": null,
      "outputs": [
        {
          "output_type": "display_data",
          "data": {
            "text/plain": [
              "<IPython.core.display.Javascript object>"
            ],
            "application/javascript": [
              "\n",
              "    async function download(id, filename, size) {\n",
              "      if (!google.colab.kernel.accessAllowed) {\n",
              "        return;\n",
              "      }\n",
              "      const div = document.createElement('div');\n",
              "      const label = document.createElement('label');\n",
              "      label.textContent = `Downloading \"${filename}\": `;\n",
              "      div.appendChild(label);\n",
              "      const progress = document.createElement('progress');\n",
              "      progress.max = size;\n",
              "      div.appendChild(progress);\n",
              "      document.body.appendChild(div);\n",
              "\n",
              "      const buffers = [];\n",
              "      let downloaded = 0;\n",
              "\n",
              "      const channel = await google.colab.kernel.comms.open(id);\n",
              "      // Send a message to notify the kernel that we're ready.\n",
              "      channel.send({})\n",
              "\n",
              "      for await (const message of channel.messages) {\n",
              "        // Send a message to notify the kernel that we're ready.\n",
              "        channel.send({})\n",
              "        if (message.buffers) {\n",
              "          for (const buffer of message.buffers) {\n",
              "            buffers.push(buffer);\n",
              "            downloaded += buffer.byteLength;\n",
              "            progress.value = downloaded;\n",
              "          }\n",
              "        }\n",
              "      }\n",
              "      const blob = new Blob(buffers, {type: 'application/binary'});\n",
              "      const a = document.createElement('a');\n",
              "      a.href = window.URL.createObjectURL(blob);\n",
              "      a.download = filename;\n",
              "      div.appendChild(a);\n",
              "      a.click();\n",
              "      div.remove();\n",
              "    }\n",
              "  "
            ]
          },
          "metadata": {}
        },
        {
          "output_type": "display_data",
          "data": {
            "text/plain": [
              "<IPython.core.display.Javascript object>"
            ],
            "application/javascript": [
              "download(\"download_163c2162-4b87-450b-afb9-7a3db0e99eec\", \"result.csv\", 2964)"
            ]
          },
          "metadata": {}
        }
      ]
    },
    {
      "cell_type": "code",
      "source": [
        "# def if_sanitasi(row):\n",
        "#   try:\n",
        "\n",
        "#    if str in strrrr:\n",
        "#            return 1\n",
        "#     else: return 0\n",
        "\n",
        "# df['flag_sanitasi'] = df.apply (lambda row: if_sanitasi(row), axis=1)"
      ],
      "metadata": {
        "id": "ScZfPxfIiyUa"
      },
      "execution_count": null,
      "outputs": []
    },
    {
      "cell_type": "code",
      "source": [
        "result"
      ],
      "metadata": {
        "id": "WgDJhfSIfm41",
        "outputId": "55aabfd1-ed3c-4cff-fb2c-8dee7aa834f0",
        "colab": {
          "base_uri": "https://localhost:8080/",
          "height": 424
        }
      },
      "execution_count": null,
      "outputs": [
        {
          "output_type": "execute_result",
          "data": {
            "text/plain": [
              "    tahun  bulan  flag_sanitasi  nilaianggaran   NAMA_PROVINSI  KODE_PROVINSI\n",
              "0    2022    0.0              0   9.080029e+13     DKI JAKARTA              1\n",
              "1    2022    0.0              1   2.255884e+08     DKI JAKARTA              1\n",
              "2    2022    0.0              0   1.185947e+14      JAWA BARAT              2\n",
              "3    2022    0.0              1   8.535202e+08      JAWA BARAT              2\n",
              "4    2022    0.0              0   5.221052e+13     JAWA TENGAH              3\n",
              "..    ...    ...            ...            ...             ...            ...\n",
              "60   2022    0.0              1   1.754998e+09  KEPULAUAN RIAU             32\n",
              "61   2022    0.0              0   1.619196e+13     PAPUA BARAT             33\n",
              "62   2022    0.0              1   8.900000e+07     PAPUA BARAT             33\n",
              "63   2022    0.0              0   1.616243e+13  SULAWESI BARAT             34\n",
              "64   2022    0.0              1   9.740000e+07  SULAWESI BARAT             34\n",
              "\n",
              "[65 rows x 6 columns]"
            ],
            "text/html": [
              "\n",
              "  <div id=\"df-dc0061d4-563f-4856-8b5b-dbce1a93d4a1\">\n",
              "    <div class=\"colab-df-container\">\n",
              "      <div>\n",
              "<style scoped>\n",
              "    .dataframe tbody tr th:only-of-type {\n",
              "        vertical-align: middle;\n",
              "    }\n",
              "\n",
              "    .dataframe tbody tr th {\n",
              "        vertical-align: top;\n",
              "    }\n",
              "\n",
              "    .dataframe thead th {\n",
              "        text-align: right;\n",
              "    }\n",
              "</style>\n",
              "<table border=\"1\" class=\"dataframe\">\n",
              "  <thead>\n",
              "    <tr style=\"text-align: right;\">\n",
              "      <th></th>\n",
              "      <th>tahun</th>\n",
              "      <th>bulan</th>\n",
              "      <th>flag_sanitasi</th>\n",
              "      <th>nilaianggaran</th>\n",
              "      <th>NAMA_PROVINSI</th>\n",
              "      <th>KODE_PROVINSI</th>\n",
              "    </tr>\n",
              "  </thead>\n",
              "  <tbody>\n",
              "    <tr>\n",
              "      <th>0</th>\n",
              "      <td>2022</td>\n",
              "      <td>0.0</td>\n",
              "      <td>0</td>\n",
              "      <td>9.080029e+13</td>\n",
              "      <td>DKI JAKARTA</td>\n",
              "      <td>1</td>\n",
              "    </tr>\n",
              "    <tr>\n",
              "      <th>1</th>\n",
              "      <td>2022</td>\n",
              "      <td>0.0</td>\n",
              "      <td>1</td>\n",
              "      <td>2.255884e+08</td>\n",
              "      <td>DKI JAKARTA</td>\n",
              "      <td>1</td>\n",
              "    </tr>\n",
              "    <tr>\n",
              "      <th>2</th>\n",
              "      <td>2022</td>\n",
              "      <td>0.0</td>\n",
              "      <td>0</td>\n",
              "      <td>1.185947e+14</td>\n",
              "      <td>JAWA BARAT</td>\n",
              "      <td>2</td>\n",
              "    </tr>\n",
              "    <tr>\n",
              "      <th>3</th>\n",
              "      <td>2022</td>\n",
              "      <td>0.0</td>\n",
              "      <td>1</td>\n",
              "      <td>8.535202e+08</td>\n",
              "      <td>JAWA BARAT</td>\n",
              "      <td>2</td>\n",
              "    </tr>\n",
              "    <tr>\n",
              "      <th>4</th>\n",
              "      <td>2022</td>\n",
              "      <td>0.0</td>\n",
              "      <td>0</td>\n",
              "      <td>5.221052e+13</td>\n",
              "      <td>JAWA TENGAH</td>\n",
              "      <td>3</td>\n",
              "    </tr>\n",
              "    <tr>\n",
              "      <th>...</th>\n",
              "      <td>...</td>\n",
              "      <td>...</td>\n",
              "      <td>...</td>\n",
              "      <td>...</td>\n",
              "      <td>...</td>\n",
              "      <td>...</td>\n",
              "    </tr>\n",
              "    <tr>\n",
              "      <th>60</th>\n",
              "      <td>2022</td>\n",
              "      <td>0.0</td>\n",
              "      <td>1</td>\n",
              "      <td>1.754998e+09</td>\n",
              "      <td>KEPULAUAN RIAU</td>\n",
              "      <td>32</td>\n",
              "    </tr>\n",
              "    <tr>\n",
              "      <th>61</th>\n",
              "      <td>2022</td>\n",
              "      <td>0.0</td>\n",
              "      <td>0</td>\n",
              "      <td>1.619196e+13</td>\n",
              "      <td>PAPUA BARAT</td>\n",
              "      <td>33</td>\n",
              "    </tr>\n",
              "    <tr>\n",
              "      <th>62</th>\n",
              "      <td>2022</td>\n",
              "      <td>0.0</td>\n",
              "      <td>1</td>\n",
              "      <td>8.900000e+07</td>\n",
              "      <td>PAPUA BARAT</td>\n",
              "      <td>33</td>\n",
              "    </tr>\n",
              "    <tr>\n",
              "      <th>63</th>\n",
              "      <td>2022</td>\n",
              "      <td>0.0</td>\n",
              "      <td>0</td>\n",
              "      <td>1.616243e+13</td>\n",
              "      <td>SULAWESI BARAT</td>\n",
              "      <td>34</td>\n",
              "    </tr>\n",
              "    <tr>\n",
              "      <th>64</th>\n",
              "      <td>2022</td>\n",
              "      <td>0.0</td>\n",
              "      <td>1</td>\n",
              "      <td>9.740000e+07</td>\n",
              "      <td>SULAWESI BARAT</td>\n",
              "      <td>34</td>\n",
              "    </tr>\n",
              "  </tbody>\n",
              "</table>\n",
              "<p>65 rows × 6 columns</p>\n",
              "</div>\n",
              "      <button class=\"colab-df-convert\" onclick=\"convertToInteractive('df-dc0061d4-563f-4856-8b5b-dbce1a93d4a1')\"\n",
              "              title=\"Convert this dataframe to an interactive table.\"\n",
              "              style=\"display:none;\">\n",
              "        \n",
              "  <svg xmlns=\"http://www.w3.org/2000/svg\" height=\"24px\"viewBox=\"0 0 24 24\"\n",
              "       width=\"24px\">\n",
              "    <path d=\"M0 0h24v24H0V0z\" fill=\"none\"/>\n",
              "    <path d=\"M18.56 5.44l.94 2.06.94-2.06 2.06-.94-2.06-.94-.94-2.06-.94 2.06-2.06.94zm-11 1L8.5 8.5l.94-2.06 2.06-.94-2.06-.94L8.5 2.5l-.94 2.06-2.06.94zm10 10l.94 2.06.94-2.06 2.06-.94-2.06-.94-.94-2.06-.94 2.06-2.06.94z\"/><path d=\"M17.41 7.96l-1.37-1.37c-.4-.4-.92-.59-1.43-.59-.52 0-1.04.2-1.43.59L10.3 9.45l-7.72 7.72c-.78.78-.78 2.05 0 2.83L4 21.41c.39.39.9.59 1.41.59.51 0 1.02-.2 1.41-.59l7.78-7.78 2.81-2.81c.8-.78.8-2.07 0-2.86zM5.41 20L4 18.59l7.72-7.72 1.47 1.35L5.41 20z\"/>\n",
              "  </svg>\n",
              "      </button>\n",
              "      \n",
              "  <style>\n",
              "    .colab-df-container {\n",
              "      display:flex;\n",
              "      flex-wrap:wrap;\n",
              "      gap: 12px;\n",
              "    }\n",
              "\n",
              "    .colab-df-convert {\n",
              "      background-color: #E8F0FE;\n",
              "      border: none;\n",
              "      border-radius: 50%;\n",
              "      cursor: pointer;\n",
              "      display: none;\n",
              "      fill: #1967D2;\n",
              "      height: 32px;\n",
              "      padding: 0 0 0 0;\n",
              "      width: 32px;\n",
              "    }\n",
              "\n",
              "    .colab-df-convert:hover {\n",
              "      background-color: #E2EBFA;\n",
              "      box-shadow: 0px 1px 2px rgba(60, 64, 67, 0.3), 0px 1px 3px 1px rgba(60, 64, 67, 0.15);\n",
              "      fill: #174EA6;\n",
              "    }\n",
              "\n",
              "    [theme=dark] .colab-df-convert {\n",
              "      background-color: #3B4455;\n",
              "      fill: #D2E3FC;\n",
              "    }\n",
              "\n",
              "    [theme=dark] .colab-df-convert:hover {\n",
              "      background-color: #434B5C;\n",
              "      box-shadow: 0px 1px 3px 1px rgba(0, 0, 0, 0.15);\n",
              "      filter: drop-shadow(0px 1px 2px rgba(0, 0, 0, 0.3));\n",
              "      fill: #FFFFFF;\n",
              "    }\n",
              "  </style>\n",
              "\n",
              "      <script>\n",
              "        const buttonEl =\n",
              "          document.querySelector('#df-dc0061d4-563f-4856-8b5b-dbce1a93d4a1 button.colab-df-convert');\n",
              "        buttonEl.style.display =\n",
              "          google.colab.kernel.accessAllowed ? 'block' : 'none';\n",
              "\n",
              "        async function convertToInteractive(key) {\n",
              "          const element = document.querySelector('#df-dc0061d4-563f-4856-8b5b-dbce1a93d4a1');\n",
              "          const dataTable =\n",
              "            await google.colab.kernel.invokeFunction('convertToInteractive',\n",
              "                                                     [key], {});\n",
              "          if (!dataTable) return;\n",
              "\n",
              "          const docLinkHtml = 'Like what you see? Visit the ' +\n",
              "            '<a target=\"_blank\" href=https://colab.research.google.com/notebooks/data_table.ipynb>data table notebook</a>'\n",
              "            + ' to learn more about interactive tables.';\n",
              "          element.innerHTML = '';\n",
              "          dataTable['output_type'] = 'display_data';\n",
              "          await google.colab.output.renderOutput(dataTable, element);\n",
              "          const docLink = document.createElement('div');\n",
              "          docLink.innerHTML = docLinkHtml;\n",
              "          element.appendChild(docLink);\n",
              "        }\n",
              "      </script>\n",
              "    </div>\n",
              "  </div>\n",
              "  "
            ]
          },
          "metadata": {},
          "execution_count": 79
        }
      ]
    },
    {
      "cell_type": "code",
      "source": [],
      "metadata": {
        "id": "7frkf-j_fncj"
      },
      "execution_count": null,
      "outputs": []
    }
  ],
  "metadata": {
    "colab": {
      "provenance": []
    },
    "kernelspec": {
      "display_name": "Python 3",
      "name": "python3"
    },
    "language_info": {
      "name": "python"
    }
  },
  "nbformat": 4,
  "nbformat_minor": 0
}